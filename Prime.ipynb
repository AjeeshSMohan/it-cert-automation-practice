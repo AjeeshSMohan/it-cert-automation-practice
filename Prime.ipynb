{
  "nbformat": 4,
  "nbformat_minor": 0,
  "metadata": {
    "colab": {
      "name": "Prime.ipynb",
      "provenance": [],
      "collapsed_sections": [],
      "authorship_tag": "ABX9TyNnQysyCKovd6Wts9hXzgtm",
      "include_colab_link": true
    },
    "kernelspec": {
      "name": "python3",
      "display_name": "Python 3"
    },
    "language_info": {
      "name": "python"
    }
  },
  "cells": [
    {
      "cell_type": "markdown",
      "metadata": {
        "id": "view-in-github",
        "colab_type": "text"
      },
      "source": [
        "<a href=\"https://colab.research.google.com/github/AjeeshSMohan/it-cert-automation-practice/blob/master/Prime.ipynb\" target=\"_parent\"><img src=\"https://colab.research.google.com/assets/colab-badge.svg\" alt=\"Open In Colab\"/></a>"
      ]
    },
    {
      "cell_type": "code",
      "metadata": {
        "colab": {
          "base_uri": "https://localhost:8080/"
        },
        "id": "qs2MtYcPO8Pv",
        "outputId": "2f99f4cf-ba78-45ea-9f86-9f3663a08511"
      },
      "source": [
        "number =int(input(\"Enter a number :\" ))\n",
        "isPrime=True;\n",
        "for i in range(2,number):\n",
        "  print(i)\n",
        "  if number%i != 0:\n",
        "    isPrime=False\n",
        "    break;\n",
        "if isPrime:\n",
        "   print(\"Prime\")\n",
        "else:\n",
        "  print(\"Not prime\")      \n"
      ],
      "execution_count": 7,
      "outputs": [
        {
          "output_type": "stream",
          "name": "stdout",
          "text": [
            "Enter a number :9\n",
            "2\n",
            "Not prime\n"
          ]
        }
      ]
    }
  ]
}