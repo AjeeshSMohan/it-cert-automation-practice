{
  "nbformat": 4,
  "nbformat_minor": 0,
  "metadata": {
    "colab": {
      "name": "GreatestofThree.ipynb",
      "provenance": [],
      "collapsed_sections": [],
      "authorship_tag": "ABX9TyP+QHD8vGzCcPbPfh6qKSjy",
      "include_colab_link": true
    },
    "kernelspec": {
      "name": "python3",
      "display_name": "Python 3"
    },
    "language_info": {
      "name": "python"
    }
  },
  "cells": [
    {
      "cell_type": "markdown",
      "metadata": {
        "id": "view-in-github",
        "colab_type": "text"
      },
      "source": [
        "<a href=\"https://colab.research.google.com/github/AjeeshSMohan/it-cert-automation-practice/blob/master/GreatestofThree.ipynb\" target=\"_parent\"><img src=\"https://colab.research.google.com/assets/colab-badge.svg\" alt=\"Open In Colab\"/></a>"
      ]
    },
    {
      "cell_type": "code",
      "metadata": {
        "colab": {
          "base_uri": "https://localhost:8080/"
        },
        "id": "0pLpSk6qY6jT",
        "outputId": "d2b6b153-da78-444c-824a-22213a966ad5"
      },
      "source": [
        "n1 = int(input(\"please give first number n1: \"))\n",
        "n2 = int(input(\"please give second number n2: \"))\n",
        "n3 = int(input(\"please give third number n3: \"))\n",
        "\n",
        "if n1>=n2 and n1>=n3: \n",
        "\tprint(\" n1 is greatest\");\n",
        "if n2>=n1 and n2>=n3:\n",
        "  if n1==n2:\n",
        "    print(\"n1 and n2 are greatest\");\n",
        "  else:\n",
        "    print(\" n2 is greatest\");\n",
        "\n",
        "if n3>=n1 and n3>=n2:\n",
        "  if n1==n3:\n",
        "    print(\"n1 and n3 are greatest\");\n",
        "  elif n2==n3:\n",
        "    print(\"n21 and n3 are greatest\");  \n",
        "  else:\n",
        "    print(\"n3 is greatest\");\n"
      ],
      "execution_count": 4,
      "outputs": [
        {
          "output_type": "stream",
          "name": "stdout",
          "text": [
            "please give first number n1: 3\n",
            "please give second number n2: 3\n",
            "please give third number n3: 1\n",
            " n1 is greatest\n",
            "n1 and n2 are greatest\n"
          ]
        }
      ]
    }
  ]
}