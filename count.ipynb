{
  "nbformat": 4,
  "nbformat_minor": 0,
  "metadata": {
    "colab": {
      "name": "count.ipynb",
      "provenance": [],
      "authorship_tag": "ABX9TyO6vecgQIdpuENuWieB/k4F",
      "include_colab_link": true
    },
    "kernelspec": {
      "name": "python3",
      "display_name": "Python 3"
    },
    "language_info": {
      "name": "python"
    }
  },
  "cells": [
    {
      "cell_type": "markdown",
      "metadata": {
        "id": "view-in-github",
        "colab_type": "text"
      },
      "source": [
        "<a href=\"https://colab.research.google.com/github/AjeeshSMohan/it-cert-automation-practice/blob/master/count.ipynb\" target=\"_parent\"><img src=\"https://colab.research.google.com/assets/colab-badge.svg\" alt=\"Open In Colab\"/></a>"
      ]
    },
    {
      "cell_type": "code",
      "metadata": {
        "colab": {
          "base_uri": "https://localhost:8080/"
        },
        "id": "38aKlNJnHkS4",
        "outputId": "b8f73ae2-b66a-4187-81ee-8bd35146064c"
      },
      "source": [
        "weekdays = ['sun','mon','tue','wed','thu','fri','sun','mon','mon']\n",
        "print(weekdays.count('mon'))\n",
        "weekdays = ['sun','mon','tue','wed','thu','fri','sun','mon','mon']\n",
        "print([[x,weekdays.count(x)] for x in set(weekdays)])"
      ],
      "execution_count": 2,
      "outputs": [
        {
          "output_type": "stream",
          "name": "stdout",
          "text": [
            "3\n",
            "[['wed', 1], ['fri', 1], ['sun', 2], ['thu', 1], ['tue', 1], ['mon', 3]]\n"
          ]
        }
      ]
    }
  ]
}