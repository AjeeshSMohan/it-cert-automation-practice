{
  "nbformat": 4,
  "nbformat_minor": 0,
  "metadata": {
    "colab": {
      "name": "Untitled10.ipynb",
      "provenance": [],
      "authorship_tag": "ABX9TyPjMhTnaCom0U6MS5w21QQH",
      "include_colab_link": true
    },
    "kernelspec": {
      "name": "python3",
      "display_name": "Python 3"
    },
    "language_info": {
      "name": "python"
    }
  },
  "cells": [
    {
      "cell_type": "markdown",
      "metadata": {
        "id": "view-in-github",
        "colab_type": "text"
      },
      "source": [
        "<a href=\"https://colab.research.google.com/github/AjeeshSMohan/it-cert-automation-practice/blob/master/%20Coin%20Game.ipynb\" target=\"_parent\"><img src=\"https://colab.research.google.com/assets/colab-badge.svg\" alt=\"Open In Colab\"/></a>"
      ]
    },
    {
      "cell_type": "code",
      "metadata": {
        "colab": {
          "base_uri": "https://localhost:8080/"
        },
        "id": "fJaH1zdJZght",
        "outputId": "6ff9a77a-9780-4fa6-947c-b65492f98ca3"
      },
      "source": [
        "n=int(input())\n",
        "arr=[]\n",
        "for i in range(n):\n",
        "    arr.append(int(input()))\n",
        "s,a=0,0\n",
        "for i in arr:\n",
        "    s=s+i   \n",
        "    if(s<1):\n",
        "        a=a+(-1*s) \n",
        "        s=0 \n",
        "print(a)"
      ],
      "execution_count": 7,
      "outputs": [
        {
          "output_type": "stream",
          "name": "stdout",
          "text": [
            "4\n",
            "2\n",
            "-9\n",
            "15\n",
            "2\n",
            "7\n"
          ]
        }
      ]
    }
  ]
}