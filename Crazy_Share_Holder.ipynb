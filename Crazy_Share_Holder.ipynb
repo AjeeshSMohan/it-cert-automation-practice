{
  "nbformat": 4,
  "nbformat_minor": 0,
  "metadata": {
    "colab": {
      "name": "Crazy Share Holder.ipynb",
      "provenance": [],
      "authorship_tag": "ABX9TyNv96O/AgfMnG1tgq8R8syD",
      "include_colab_link": true
    },
    "kernelspec": {
      "name": "python3",
      "display_name": "Python 3"
    },
    "language_info": {
      "name": "python"
    }
  },
  "cells": [
    {
      "cell_type": "markdown",
      "metadata": {
        "id": "view-in-github",
        "colab_type": "text"
      },
      "source": [
        "<a href=\"https://colab.research.google.com/github/AjeeshSMohan/it-cert-automation-practice/blob/master/Crazy_Share_Holder.ipynb\" target=\"_parent\"><img src=\"https://colab.research.google.com/assets/colab-badge.svg\" alt=\"Open In Colab\"/></a>"
      ]
    },
    {
      "cell_type": "code",
      "metadata": {
        "colab": {
          "base_uri": "https://localhost:8080/"
        },
        "id": "d9wZgt3-16sy",
        "outputId": "9acd1b03-d2a8-4291-e250-5ee522e1cc38"
      },
      "source": [
        "def func(diff):\n",
        "    n=len(diff)\n",
        "    if n==0:\n",
        "        return 0\n",
        "    mx=max(diff)\n",
        "    print('mx', mx)\n",
        "    if mx<=0:\n",
        "        return 0\n",
        "    mxS=0\n",
        "    cS=0\n",
        "    for i in diff:\n",
        "        cS+=i\n",
        "        if cS<=0:\n",
        "            cS=0\n",
        "        mxS=max(cS,mxS)\n",
        "    return mxS\n",
        "\n",
        "\n",
        "n=int(input())\n",
        "arr=[]\n",
        "diff=[]\n",
        "ans=[0]\n",
        "for i in range(n):\n",
        "    arr.append(int(input()))\n",
        "for i in range(n-1):\n",
        "    diff.append(arr[i+1]-arr[i])\n",
        "\n",
        "print('arr', arr)\n",
        "print('diff', diff)    \n",
        "ans=func(diff)\n",
        "if ans<0:\n",
        "    print(\"0\")\n",
        "else:\n",
        "    print(ans)"
      ],
      "execution_count": 6,
      "outputs": [
        {
          "output_type": "stream",
          "name": "stdout",
          "text": [
            "6\n",
            "12\n",
            "15\n",
            "13\n",
            "18\n",
            "10\n",
            "43\n",
            "arr [12, 15, 13, 18, 10, 43]\n",
            "diff [3, -2, 5, -8, 33]\n",
            "mx 33\n",
            "33\n"
          ]
        }
      ]
    }
  ]
}