{
  "nbformat": 4,
  "nbformat_minor": 0,
  "metadata": {
    "colab": {
      "name": "convert a list into a string.ipynb",
      "provenance": [],
      "authorship_tag": "ABX9TyPch3pmLYDSHcKvQ+LIgICe",
      "include_colab_link": true
    },
    "kernelspec": {
      "name": "python3",
      "display_name": "Python 3"
    },
    "language_info": {
      "name": "python"
    }
  },
  "cells": [
    {
      "cell_type": "markdown",
      "metadata": {
        "id": "view-in-github",
        "colab_type": "text"
      },
      "source": [
        "<a href=\"https://colab.research.google.com/github/AjeeshSMohan/it-cert-automation-practice/blob/master/convert_a_list_into_a_string.ipynb\" target=\"_parent\"><img src=\"https://colab.research.google.com/assets/colab-badge.svg\" alt=\"Open In Colab\"/></a>"
      ]
    },
    {
      "cell_type": "code",
      "metadata": {
        "colab": {
          "base_uri": "https://localhost:8080/"
        },
        "id": "yVaYhhr8GeVn",
        "outputId": "60882772-7213-42a4-f659-04182dcd9890"
      },
      "source": [
        "weekdays = ['sun','mon','tue','wed','thu','fri','sat']\n",
        "listAsString = ' '.join(weekdays)\n",
        "print(listAsString)"
      ],
      "execution_count": 2,
      "outputs": [
        {
          "output_type": "stream",
          "name": "stdout",
          "text": [
            "sun mon tue wed thu fri sat\n"
          ]
        }
      ]
    }
  ]
}