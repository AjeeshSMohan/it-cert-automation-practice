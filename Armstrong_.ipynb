{
  "nbformat": 4,
  "nbformat_minor": 0,
  "metadata": {
    "colab": {
      "name": "Armstrong .ipynb",
      "provenance": [],
      "collapsed_sections": [],
      "authorship_tag": "ABX9TyPuBGe/VSccsDewYzBl4+Fa",
      "include_colab_link": true
    },
    "kernelspec": {
      "name": "python3",
      "display_name": "Python 3"
    },
    "language_info": {
      "name": "python"
    }
  },
  "cells": [
    {
      "cell_type": "markdown",
      "metadata": {
        "id": "view-in-github",
        "colab_type": "text"
      },
      "source": [
        "<a href=\"https://colab.research.google.com/github/AjeeshSMohan/it-cert-automation-practice/blob/master/Armstrong_.ipynb\" target=\"_parent\"><img src=\"https://colab.research.google.com/assets/colab-badge.svg\" alt=\"Open In Colab\"/></a>"
      ]
    },
    {
      "cell_type": "code",
      "metadata": {
        "colab": {
          "base_uri": "https://localhost:8080/"
        },
        "id": "5Y1pDqaSI_kv",
        "outputId": "e6df5165-3499-4114-b132-0c7053a4e69e"
      },
      "source": [
        "number= int(input(\"Enter a number: \" ))\n",
        "n=number\n",
        "num =0\n",
        "sum=0;\n",
        "while n!=0:\n",
        "  num=n%10\n",
        "  print(num)\n",
        "  sum= sum+ pow(num,3)\n",
        "  n=n//10\n",
        "  print(n)\n",
        "print(\"sum\", sum)  \n",
        "if sum==number:\n",
        "  print(\"Armstrong \")\n",
        "else:\n",
        "  print(\"Not Armstrong \")  \n"
      ],
      "execution_count": 15,
      "outputs": [
        {
          "output_type": "stream",
          "name": "stdout",
          "text": [
            "Enter a number: 153\n",
            "3\n",
            "15\n",
            "5\n",
            "1\n",
            "1\n",
            "0\n",
            "sum 153\n",
            "Armstrong \n"
          ]
        }
      ]
    }
  ]
}