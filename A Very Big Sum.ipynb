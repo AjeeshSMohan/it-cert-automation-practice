{
  "nbformat": 4,
  "nbformat_minor": 0,
  "metadata": {
    "colab": {
      "name": "Untitled9.ipynb",
      "provenance": [],
      "authorship_tag": "ABX9TyPt/DdRAv8e4xkyAKj56bXV",
      "include_colab_link": true
    },
    "kernelspec": {
      "name": "python3",
      "display_name": "Python 3"
    },
    "language_info": {
      "name": "python"
    }
  },
  "cells": [
    {
      "cell_type": "markdown",
      "metadata": {
        "id": "view-in-github",
        "colab_type": "text"
      },
      "source": [
        "<a href=\"https://colab.research.google.com/github/AjeeshSMohan/it-cert-automation-practice/blob/master/A%20Very%20Big%20Sum.ipynb\" target=\"_parent\"><img src=\"https://colab.research.google.com/assets/colab-badge.svg\" alt=\"Open In Colab\"/></a>"
      ]
    },
    {
      "cell_type": "code",
      "metadata": {
        "colab": {
          "base_uri": "https://localhost:8080/"
        },
        "id": "sY5HdHDdfycp",
        "outputId": "19a6dbc1-ecb2-4b28-d5f0-5ab3c569bf16"
      },
      "source": [
        "#!/bin/python3\n",
        "\n",
        "import math\n",
        "import os\n",
        "import random\n",
        "import re\n",
        "import sys\n",
        "# Complete the aVeryBigSum function below.\n",
        "def aVeryBigSum(ar):\n",
        "  sun = 0\n",
        "  for i in range(len(ar)):\n",
        "    sum+ = ar[i]\n",
        "  return sum  \n",
        "\n",
        "if __name__ == '__main__':\n",
        "    #fptr = open(os.environ['OUTPUT_PATH'], 'w')\n",
        "\n",
        "    ar_count = int(input())\n",
        "\n",
        "    ar = list(map(int, input().rstrip().split()))\n",
        "\n",
        "    result = aVeryBigSum(ar)\n",
        "\n",
        "    print(result)\n",
        "\n",
        "    #fptr.write(str(result) + '\\n')\n",
        "\n",
        "    #fptr.close()"
      ],
      "execution_count": 16,
      "outputs": [
        {
          "output_type": "stream",
          "name": "stdout",
          "text": [
            "3\n",
            "25 36 87\n",
            "148\n"
          ]
        }
      ]
    }
  ]
}