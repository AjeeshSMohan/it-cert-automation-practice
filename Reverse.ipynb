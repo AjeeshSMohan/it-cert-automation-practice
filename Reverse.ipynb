{
  "nbformat": 4,
  "nbformat_minor": 0,
  "metadata": {
    "colab": {
      "name": "Reverse.ipynb",
      "provenance": [],
      "authorship_tag": "ABX9TyP5RjzYnoLt9KMoknPbz9fq",
      "include_colab_link": true
    },
    "kernelspec": {
      "name": "python3",
      "display_name": "Python 3"
    },
    "language_info": {
      "name": "python"
    }
  },
  "cells": [
    {
      "cell_type": "markdown",
      "metadata": {
        "id": "view-in-github",
        "colab_type": "text"
      },
      "source": [
        "<a href=\"https://colab.research.google.com/github/AjeeshSMohan/it-cert-automation-practice/blob/master/Reverse.ipynb\" target=\"_parent\"><img src=\"https://colab.research.google.com/assets/colab-badge.svg\" alt=\"Open In Colab\"/></a>"
      ]
    },
    {
      "cell_type": "code",
      "metadata": {
        "colab": {
          "base_uri": "https://localhost:8080/"
        },
        "id": "SJvzvF-9G9XO",
        "outputId": "f56415b6-6e82-436b-88f8-f41cede759ff"
      },
      "source": [
        "n= int(input(\"Enter number: \", ))\n",
        "print(\"Before reversing the number is %d\", n)\n",
        "reverse =0;\n",
        "while n!=0:\n",
        "  reverse = reverse*10 + n%10\n",
        "  n=(n//10)\n",
        "  print(\"//\", n)\n",
        "\n",
        "print(\"reverse is \", reverse)  "
      ],
      "execution_count": 1,
      "outputs": [
        {
          "output_type": "stream",
          "name": "stdout",
          "text": [
            "Enter number: 123\n",
            "Before reversing the number is %d 123\n",
            "// 12\n",
            "// 1\n",
            "// 0\n",
            "reverse is  321\n"
          ]
        }
      ]
    }
  ]
}