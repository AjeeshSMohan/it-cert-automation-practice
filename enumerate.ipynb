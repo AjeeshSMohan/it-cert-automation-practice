{
  "nbformat": 4,
  "nbformat_minor": 0,
  "metadata": {
    "colab": {
      "name": "enumerate.ipynb",
      "provenance": [],
      "authorship_tag": "ABX9TyOoyNCjwTe8Dn18Eu2QXskX",
      "include_colab_link": true
    },
    "kernelspec": {
      "name": "python3",
      "display_name": "Python 3"
    },
    "language_info": {
      "name": "python"
    }
  },
  "cells": [
    {
      "cell_type": "markdown",
      "metadata": {
        "id": "view-in-github",
        "colab_type": "text"
      },
      "source": [
        "<a href=\"https://colab.research.google.com/github/AjeeshSMohan/it-cert-automation-practice/blob/master/enumerate.ipynb\" target=\"_parent\"><img src=\"https://colab.research.google.com/assets/colab-badge.svg\" alt=\"Open In Colab\"/></a>"
      ]
    },
    {
      "cell_type": "code",
      "metadata": {
        "colab": {
          "base_uri": "https://localhost:8080/"
        },
        "id": "wKTcX4yZJfID",
        "outputId": "c4da0616-60c3-4227-c907-7d7b9c6579be"
      },
      "source": [
        "subjects = ('Python', 'Interview', 'Questions')\n",
        "for i, subject in enumerate(subjects):\n",
        "  print(i, subject)\n",
        "\n",
        "  \n",
        "for i in subjects:\n",
        "  print(i)  "
      ],
      "execution_count": 2,
      "outputs": [
        {
          "output_type": "stream",
          "name": "stdout",
          "text": [
            "0 Python\n",
            "1 Interview\n",
            "2 Questions\n",
            "Python\n",
            "Interview\n",
            "Questions\n"
          ]
        }
      ]
    }
  ]
}